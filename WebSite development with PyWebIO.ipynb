{
 "cells": [
  {
   "cell_type": "code",
   "execution_count": 8,
   "id": "loved-confidence",
   "metadata": {},
   "outputs": [
    {
     "name": "stdout",
     "output_type": "stream",
     "text": [
      "Requirement already satisfied: pywebio in /Users/suraj/Anaconda/anaconda3/lib/python3.8/site-packages (1.2.3)\n",
      "Requirement already satisfied: tornado>=5.0 in /Users/suraj/Anaconda/anaconda3/lib/python3.8/site-packages (from pywebio) (6.1)\n",
      "Requirement already satisfied: user-agents in /Users/suraj/Anaconda/anaconda3/lib/python3.8/site-packages (from pywebio) (2.2.0)\n",
      "Requirement already satisfied: ua-parser>=0.10.0 in /Users/suraj/Anaconda/anaconda3/lib/python3.8/site-packages (from user-agents->pywebio) (0.10.0)\n",
      "Note: you may need to restart the kernel to use updated packages.\n"
     ]
    }
   ],
   "source": [
    "pip install pywebio"
   ]
  },
  {
   "cell_type": "code",
   "execution_count": 1,
   "id": "public-composition",
   "metadata": {},
   "outputs": [],
   "source": [
    "import json\n",
    "\n",
    "from pywebio import start_server\n",
    "from pywebio.input import *\n",
    "from pywebio.output import *\n",
    "from pywebio.session import set_env, info as session_info"
   ]
  },
  {
   "cell_type": "code",
   "execution_count": null,
   "id": "southeast-strip",
   "metadata": {},
   "outputs": [],
   "source": [
    "userinfo=input_group(\"Enter your Information here\",[\n",
    "    input('Enter your name', name='name'),\n",
    "    input('Enter your age',name='age',type=NUMBER),\n",
    "    input('Enter your email id',name='email_id')\n",
    "    \n",
    "    \n",
    "])\n",
    "\n",
    "answer = radio(\"Choose one\", options=['A', 'B', 'C', 'D'])\n",
    "put_text('answer = %r' % answer)  \n",
    "\n",
    "Degree = select('Degree', ['Masters', 'Bachelors'])\n",
    "put_text('Degree = %r' % Degree)  \n",
    "\n",
    "agree = checkbox(\"User Term\", options=['I agree to terms and conditions'])\n",
    "put_text('agree = %r' % agree)  \n"
   ]
  },
  {
   "cell_type": "code",
   "execution_count": null,
   "id": "vocational-technical",
   "metadata": {},
   "outputs": [],
   "source": []
  }
 ],
 "metadata": {
  "kernelspec": {
   "display_name": "Python 3",
   "language": "python",
   "name": "python3"
  },
  "language_info": {
   "codemirror_mode": {
    "name": "ipython",
    "version": 3
   },
   "file_extension": ".py",
   "mimetype": "text/x-python",
   "name": "python",
   "nbconvert_exporter": "python",
   "pygments_lexer": "ipython3",
   "version": "3.8.5"
  }
 },
 "nbformat": 4,
 "nbformat_minor": 5
}
